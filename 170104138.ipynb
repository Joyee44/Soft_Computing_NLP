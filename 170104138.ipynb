{
  "nbformat": 4,
  "nbformat_minor": 0,
  "metadata": {
    "colab": {
      "name": "170104138.ipynb",
      "provenance": []
    },
    "kernelspec": {
      "name": "python3",
      "display_name": "Python 3"
    },
    "language_info": {
      "name": "python"
    }
  },
  "cells": [
    {
      "cell_type": "code",
      "metadata": {
        "colab": {
          "base_uri": "https://localhost:8080/"
        },
        "id": "cqm9vvEjxkbV",
        "outputId": "432436cc-ba1c-4fab-cd46-4b96b1c9e1fa"
      },
      "source": [
        "from google.colab import drive\n",
        "\n",
        "drive.mount('/content/drive')\n",
        "%cd /content/drive/MyDrive/Soft_Computing/Assignment-3"
      ],
      "execution_count": 2,
      "outputs": [
        {
          "output_type": "stream",
          "name": "stdout",
          "text": [
            "Mounted at /content/drive\n",
            "/content/drive/MyDrive/Soft_Computing/Assignment-3\n"
          ]
        }
      ]
    },
    {
      "cell_type": "markdown",
      "metadata": {
        "id": "d4xiUA3Xxrra"
      },
      "source": [
        "# Hyper-parameters\n"
      ]
    },
    {
      "cell_type": "code",
      "metadata": {
        "id": "0NquZCVXxpyl"
      },
      "source": [
        "maxlen = 256\n",
        "n_unique_words = 8192   # cut texts after this number of words\n",
        "\n",
        "epochs = 30\n",
        "batch_size = 128\n",
        "\n",
        "num_layers = 64 "
      ],
      "execution_count": 3,
      "outputs": []
    },
    {
      "cell_type": "markdown",
      "metadata": {
        "id": "7yT_JgWlyKXH"
      },
      "source": [
        "# Read and parse dataset from file"
      ]
    },
    {
      "cell_type": "code",
      "metadata": {
        "colab": {
          "base_uri": "https://localhost:8080/"
        },
        "id": "_OYmGqg5yEUf",
        "outputId": "1c24fa70-fe99-4a33-d68c-8db60fec3de2"
      },
      "source": [
        "from random import shuffle\n",
        "\n",
        "import numpy as np\n",
        "from keras.preprocessing import sequence\n",
        "\n",
        "def read_data(file_name):\n",
        "    with open(file_name, 'r', encoding = 'ISO-8859-1') as fp:\n",
        "        data = [line.strip() for line in fp]\n",
        "        return [(record[:-2], record[-1]) for record in data[1:]]\n",
        "\n",
        "def convert(data):\n",
        "    X, Y = [], []\n",
        "    for record in data:\n",
        "        X.append([ord(c) for c in record[0]])\n",
        "        Y.append(int(record[1]))\n",
        "\n",
        "    return np.array(X), np.array(Y)\n",
        "\n",
        "dataset = read_data('Dataset1.csv')\n",
        "shuffle(dataset)\n",
        "\n",
        "len1 = int(0.6 * len(dataset))\n",
        "len2 = int(0.8 * len(dataset))\n",
        "\n",
        "train_data = dataset[:len1]\n",
        "test_data = dataset[len1:len2]\n",
        "validation_data = dataset[len2:]\n",
        "\n",
        "x_train, y_train = convert(train_data)\n",
        "x_test, y_test = convert(test_data)\n",
        "x_validation, y_validation = convert(validation_data)\n",
        "\n",
        "x_train = sequence.pad_sequences(x_train, maxlen=maxlen)\n",
        "x_test = sequence.pad_sequences(x_test, maxlen=maxlen)\n",
        "x_validation = sequence.pad_sequences(x_validation, maxlen=maxlen)"
      ],
      "execution_count": 4,
      "outputs": [
        {
          "output_type": "stream",
          "name": "stderr",
          "text": [
            "/usr/local/lib/python3.7/dist-packages/ipykernel_launcher.py:17: VisibleDeprecationWarning: Creating an ndarray from ragged nested sequences (which is a list-or-tuple of lists-or-tuples-or ndarrays with different lengths or shapes) is deprecated. If you meant to do this, you must specify 'dtype=object' when creating the ndarray\n"
          ]
        }
      ]
    },
    {
      "cell_type": "markdown",
      "metadata": {
        "id": "E3rz1_zZypBn"
      },
      "source": [
        "# Train the model with a Bidirectional RNN with 2 stacked recurrent layers and the rectified linear unit activation function"
      ]
    },
    {
      "cell_type": "code",
      "metadata": {
        "colab": {
          "base_uri": "https://localhost:8080/"
        },
        "id": "fOwFlajxyvW5",
        "outputId": "8c1b2662-1dde-4561-a3ad-262459aca3cf"
      },
      "source": [
        "from keras.models import Sequential\n",
        "from keras.layers import Dense, Dropout, Embedding, RNN, SimpleRNN, LSTM, Bidirectional\n",
        "\n",
        "model = Sequential()\n",
        "\n",
        "model.add(Embedding(n_unique_words, 128, input_length=maxlen))\n",
        "model.add(Bidirectional(SimpleRNN(num_layers, return_sequences=True)))\n",
        "model.add(Bidirectional(SimpleRNN(32)))\n",
        "model.add(Dropout(0.5))\n",
        "model.add(Dense(8, activation='relu'))\n",
        "\n",
        "model.compile(loss='mean_squared_error', optimizer='adam', metrics=['accuracy']) \n",
        "\n",
        "history = model.fit(\n",
        "    x_train,\n",
        "    y_train,\n",
        "    batch_size=batch_size,\n",
        "    epochs=epochs,\n",
        "    validation_data=[x_test, y_test]\n",
        ")"
      ],
      "execution_count": 5,
      "outputs": [
        {
          "output_type": "stream",
          "name": "stdout",
          "text": [
            "Epoch 1/30\n",
            "49/49 [==============================] - 29s 517ms/step - loss: 0.2082 - accuracy: 0.2199 - val_loss: 0.0000e+00 - val_accuracy: 0.0000e+00\n",
            "Epoch 2/30\n",
            "49/49 [==============================] - 25s 510ms/step - loss: 0.1260 - accuracy: 0.3673 - val_loss: 0.0000e+00 - val_accuracy: 0.0000e+00\n",
            "Epoch 3/30\n",
            "49/49 [==============================] - 25s 512ms/step - loss: 0.0724 - accuracy: 0.5499 - val_loss: 0.0000e+00 - val_accuracy: 0.0000e+00\n",
            "Epoch 4/30\n",
            "49/49 [==============================] - 25s 509ms/step - loss: 0.0749 - accuracy: 0.5144 - val_loss: 0.0000e+00 - val_accuracy: 0.0000e+00\n",
            "Epoch 5/30\n",
            "49/49 [==============================] - 25s 509ms/step - loss: 0.0639 - accuracy: 0.5562 - val_loss: 0.0000e+00 - val_accuracy: 0.0000e+00\n",
            "Epoch 6/30\n",
            "49/49 [==============================] - 25s 512ms/step - loss: 0.0560 - accuracy: 0.5876 - val_loss: 0.0000e+00 - val_accuracy: 0.0000e+00\n",
            "Epoch 7/30\n",
            "49/49 [==============================] - 25s 509ms/step - loss: 0.0494 - accuracy: 0.6303 - val_loss: 0.0000e+00 - val_accuracy: 0.0000e+00\n",
            "Epoch 8/30\n",
            "49/49 [==============================] - 25s 515ms/step - loss: 0.0634 - accuracy: 0.6293 - val_loss: 0.0000e+00 - val_accuracy: 0.0000e+00\n",
            "Epoch 9/30\n",
            "49/49 [==============================] - 25s 513ms/step - loss: 0.0531 - accuracy: 0.6474 - val_loss: 0.0000e+00 - val_accuracy: 0.0000e+00\n",
            "Epoch 10/30\n",
            "49/49 [==============================] - 25s 516ms/step - loss: 0.0382 - accuracy: 0.6744 - val_loss: 0.0000e+00 - val_accuracy: 0.0000e+00\n",
            "Epoch 11/30\n",
            "49/49 [==============================] - 25s 514ms/step - loss: 0.0397 - accuracy: 0.6865 - val_loss: 0.0000e+00 - val_accuracy: 0.0000e+00\n",
            "Epoch 12/30\n",
            "49/49 [==============================] - 25s 509ms/step - loss: 0.0627 - accuracy: 0.6408 - val_loss: 0.0000e+00 - val_accuracy: 0.0000e+00\n",
            "Epoch 13/30\n",
            "49/49 [==============================] - 25s 512ms/step - loss: 0.0546 - accuracy: 0.6261 - val_loss: 0.0000e+00 - val_accuracy: 0.0000e+00\n",
            "Epoch 14/30\n",
            "49/49 [==============================] - 25s 513ms/step - loss: 0.0495 - accuracy: 0.6432 - val_loss: 0.0000e+00 - val_accuracy: 0.0000e+00\n",
            "Epoch 15/30\n",
            "49/49 [==============================] - 25s 512ms/step - loss: 0.0442 - accuracy: 0.6579 - val_loss: 0.0000e+00 - val_accuracy: 0.0000e+00\n",
            "Epoch 16/30\n",
            "49/49 [==============================] - 25s 513ms/step - loss: 0.0451 - accuracy: 0.6639 - val_loss: 0.0000e+00 - val_accuracy: 0.0000e+00\n",
            "Epoch 17/30\n",
            "49/49 [==============================] - 25s 511ms/step - loss: 0.0387 - accuracy: 0.6652 - val_loss: 0.0000e+00 - val_accuracy: 0.0000e+00\n",
            "Epoch 18/30\n",
            "49/49 [==============================] - 25s 509ms/step - loss: 0.0455 - accuracy: 0.6742 - val_loss: 0.0000e+00 - val_accuracy: 0.0000e+00\n",
            "Epoch 19/30\n",
            "49/49 [==============================] - 25s 511ms/step - loss: 0.0366 - accuracy: 0.6761 - val_loss: 0.0000e+00 - val_accuracy: 0.0000e+00\n",
            "Epoch 20/30\n",
            "49/49 [==============================] - 25s 510ms/step - loss: 0.0310 - accuracy: 0.6981 - val_loss: 0.0000e+00 - val_accuracy: 0.0000e+00\n",
            "Epoch 21/30\n",
            "49/49 [==============================] - 25s 504ms/step - loss: 0.0302 - accuracy: 0.6829 - val_loss: 0.0000e+00 - val_accuracy: 0.0000e+00\n",
            "Epoch 22/30\n",
            "49/49 [==============================] - 25s 510ms/step - loss: 0.0309 - accuracy: 0.6902 - val_loss: 0.0000e+00 - val_accuracy: 0.0000e+00\n",
            "Epoch 23/30\n",
            "49/49 [==============================] - 25s 511ms/step - loss: 0.0267 - accuracy: 0.7135 - val_loss: 0.0000e+00 - val_accuracy: 0.0000e+00\n",
            "Epoch 24/30\n",
            "49/49 [==============================] - 25s 507ms/step - loss: 0.0247 - accuracy: 0.7133 - val_loss: 0.0000e+00 - val_accuracy: 0.0000e+00\n",
            "Epoch 25/30\n",
            "49/49 [==============================] - 25s 506ms/step - loss: 0.0186 - accuracy: 0.7313 - val_loss: 0.0000e+00 - val_accuracy: 0.0000e+00\n",
            "Epoch 26/30\n",
            "49/49 [==============================] - 25s 505ms/step - loss: 0.0178 - accuracy: 0.7225 - val_loss: 0.0000e+00 - val_accuracy: 0.0000e+00\n",
            "Epoch 27/30\n",
            "49/49 [==============================] - 25s 505ms/step - loss: 0.0178 - accuracy: 0.7151 - val_loss: 0.0000e+00 - val_accuracy: 0.0000e+00\n",
            "Epoch 28/30\n",
            "49/49 [==============================] - 25s 504ms/step - loss: 0.0227 - accuracy: 0.7086 - val_loss: 0.0000e+00 - val_accuracy: 0.0000e+00\n",
            "Epoch 29/30\n",
            "49/49 [==============================] - 25s 505ms/step - loss: 0.0273 - accuracy: 0.7022 - val_loss: 0.0000e+00 - val_accuracy: 0.0000e+00\n",
            "Epoch 30/30\n",
            "49/49 [==============================] - 25s 506ms/step - loss: 0.0137 - accuracy: 0.7382 - val_loss: 0.0000e+00 - val_accuracy: 0.0000e+00\n"
          ]
        }
      ]
    },
    {
      "cell_type": "markdown",
      "metadata": {
        "id": "TPzWBD6r2CZb"
      },
      "source": [
        "# Accuracy vs loss over time graphs"
      ]
    },
    {
      "cell_type": "code",
      "metadata": {
        "colab": {
          "base_uri": "https://localhost:8080/",
          "height": 295
        },
        "id": "fvX-oNgQ2Law",
        "outputId": "194e58e9-407c-49d8-bce7-d4d514cd4f6b"
      },
      "source": [
        "from matplotlib import pyplot\n",
        "\n",
        "pyplot.plot(history.history['loss'])\n",
        "pyplot.plot(history.history['accuracy'])\n",
        "pyplot.title('Loss Vs Accuracy')\n",
        "pyplot.xlabel('Epoch')\n",
        "pyplot.legend(['Loss', 'Accuracy'], loc='best')\n",
        "\n",
        "pyplot.show() "
      ],
      "execution_count": 6,
      "outputs": [
        {
          "output_type": "display_data",
          "data": {
            "image/png": "[encoded data removed]",
            "text/plain": [
              "<Figure size 432x288 with 1 Axes>"
            ]
          },
          "metadata": {
            "needs_background": "light"
          }
        }
      ]
    },
    {
      "cell_type": "markdown",
      "metadata": {
        "id": "-F_mCW8Y2WcA"
      },
      "source": [
        "# Calculate the accuracy, precision, recall, f1 score and the confusion matrix"
      ]
    },
    {
      "cell_type": "code",
      "metadata": {
        "colab": {
          "base_uri": "https://localhost:8080/"
        },
        "id": "4pfW3H7t2W6h",
        "outputId": "c52ce859-51d6-47a2-8d5b-2f3ca942aeda"
      },
      "source": [
        "from sklearn.metrics import (accuracy_score, precision_score, recall_score,\n",
        "                             f1_score, confusion_matrix)\n",
        "\n",
        "predictions = model.predict(x_validation)\n",
        "\n",
        "classes = np.argmax(predictions, axis=1)\n",
        "classes = list(map(int, map(bool, classes)))\n",
        "\n",
        "accuracy = accuracy_score(y_validation, classes)\n",
        "print('Accuracy: %f\\n' % accuracy)\n",
        "\n",
        "precision = precision_score(y_validation, classes)\n",
        "print('Precision: %f\\n' % precision)\n",
        "\n",
        "recall = recall_score(y_validation, classes)\n",
        "print('Recall: %f\\n' % recall)\n",
        "\n",
        "f1 = f1_score(y_validation, classes)\n",
        "print('F1 score: %f\\n' % f1)\n",
        "\n",
        "matrix = confusion_matrix(y_validation, classes)\n",
        "print('Confusion matrix: {}\\n'.format(matrix.tolist()))"
      ],
      "execution_count": 7,
      "outputs": [
        {
          "output_type": "stream",
          "name": "stdout",
          "text": [
            "Accuracy: 0.889481\n",
            "\n",
            "Precision: 0.818182\n",
            "\n",
            "Recall: 0.647059\n",
            "\n",
            "F1 score: 0.722628\n",
            "\n",
            "Confusion matrix: [[1538, 66], [162, 297]]\n",
            "\n"
          ]
        }
      ]
    }
  ]
}