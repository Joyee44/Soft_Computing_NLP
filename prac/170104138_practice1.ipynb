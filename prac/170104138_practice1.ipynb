{
  "nbformat": 4,
  "nbformat_minor": 0,
  "metadata": {
    "colab": {
      "name": "170104138-practice1.ipynb",
      "provenance": [],
      "collapsed_sections": []
    },
    "kernelspec": {
      "name": "python3",
      "display_name": "Python 3"
    },
    "language_info": {
      "name": "python"
    }
  },
  "cells": [
    {
      "cell_type": "code",
      "metadata": {
        "id": "1CenrTNeWZXn",
        "colab": {
          "base_uri": "https://localhost:8080/"
        },
        "outputId": "63779a29-5921-4311-b896-450698d872f6"
      },
      "source": [
        "from google.colab import drive\n",
        "\n",
        "drive.mount('/content/drive')\n",
        "%cd /content/drive/MyDrive/Soft_Computing/Assignment-3\n",
        "#%cd /content/drive/My Drive/Colab Notebooks/"
      ],
      "execution_count": 1,
      "outputs": [
        {
          "output_type": "stream",
          "name": "stdout",
          "text": [
            "Drive already mounted at /content/drive; to attempt to forcibly remount, call drive.mount(\"/content/drive\", force_remount=True).\n",
            "/content/drive/MyDrive/Soft_Computing/Assignment-3\n"
          ]
        }
      ]
    },
    {
      "cell_type": "markdown",
      "metadata": {
        "id": "W2Mr8OdBXqsx"
      },
      "source": [
        "# Hyper-parameters"
      ]
    },
    {
      "cell_type": "code",
      "metadata": {
        "id": "bvfKqSLBXpni"
      },
      "source": [
        "maxlen = 256\n",
        "n_unique_words = 8192   # cut texts after this number of words\n",
        "\n",
        "epochs = 16             # reduce to train the model faster at the cost of accuracy\n",
        "batch_size = 128\n",
        "\n",
        "num_layers = 64         # number of layers in LTSM"
      ],
      "execution_count": 2,
      "outputs": []
    },
    {
      "cell_type": "markdown",
      "metadata": {
        "id": "dAWKa6YBXyxp"
      },
      "source": [
        "Read and parse dataset from file. Convert data to numpy.ndarray type. Shuffle data and allocate 60% of data for training, 20% for testing and 20% for validation."
      ]
    },
    {
      "cell_type": "code",
      "metadata": {
        "colab": {
          "base_uri": "https://localhost:8080/"
        },
        "id": "Fz1gdpAUXzUy",
        "outputId": "de798204-57d5-4c70-d4bd-05c01f8243a8"
      },
      "source": [
        "from random import shuffle\n",
        "\n",
        "import numpy as np\n",
        "from keras.preprocessing import sequence\n",
        "\n",
        "def read_data(file_name):\n",
        "    with open(file_name, 'r', encoding = 'ISO-8859-1') as fp:\n",
        "        data = [line.strip() for line in fp]\n",
        "        return [(record[:-2], record[-1]) for record in data[1:]]\n",
        "\n",
        "def convert(data):\n",
        "    X, Y = [], []\n",
        "    for record in data:\n",
        "        X.append([ord(c) for c in record[0]])\n",
        "        Y.append(int(record[1]))\n",
        "\n",
        "    return np.array(X), np.array(Y)\n",
        "\n",
        "dataset = read_data('Dataset1.csv')\n",
        "shuffle(dataset)\n",
        "\n",
        "len1 = int(0.6 * len(dataset))\n",
        "len2 = int(0.8 * len(dataset))\n",
        "\n",
        "train_data = dataset[:len1]\n",
        "test_data = dataset[len1:len2]\n",
        "validation_data = dataset[len2:]\n",
        "\n",
        "x_train, y_train = convert(train_data)\n",
        "x_test, y_test = convert(test_data)\n",
        "x_validation, y_validation = convert(validation_data)\n",
        "\n",
        "x_train = sequence.pad_sequences(x_train, maxlen=maxlen)\n",
        "x_test = sequence.pad_sequences(x_test, maxlen=maxlen)\n",
        "x_validation = sequence.pad_sequences(x_validation, maxlen=maxlen)"
      ],
      "execution_count": 4,
      "outputs": [
        {
          "output_type": "stream",
          "name": "stderr",
          "text": [
            "/usr/local/lib/python3.7/dist-packages/ipykernel_launcher.py:17: VisibleDeprecationWarning: Creating an ndarray from ragged nested sequences (which is a list-or-tuple of lists-or-tuples-or ndarrays with different lengths or shapes) is deprecated. If you meant to do this, you must specify 'dtype=object' when creating the ndarray\n"
          ]
        }
      ]
    },
    {
      "cell_type": "markdown",
      "metadata": {
        "id": "beovSXHqX_ua"
      },
      "source": [
        "Train the model with a bidirectional RNN with multiple layers and the rectified linear unit activation function."
      ]
    },
    {
      "cell_type": "code",
      "metadata": {
        "colab": {
          "base_uri": "https://localhost:8080/"
        },
        "id": "o7GC5I3cYD0a",
        "outputId": "07ab7d95-e7f7-4187-d913-e1c38744a3c5"
      },
      "source": [
        "from keras.models import Sequential\n",
        "from keras.layers import Dense, Dropout, Embedding, LSTM, Bidirectional\n",
        "\n",
        "model = Sequential()\n",
        "\n",
        "model.add(Embedding(n_unique_words, 128, input_length=maxlen))\n",
        "model.add(Bidirectional(LSTM(num_layers)))\n",
        "model.add(Dropout(0.5))\n",
        "model.add(Dense(8, activation='relu'))\n",
        "\n",
        "model.compile(loss='mean_squared_error', optimizer='adam', metrics=['accuracy']) \n",
        "\n",
        "history = model.fit(\n",
        "    x_train,\n",
        "    y_train,\n",
        "    batch_size=batch_size,\n",
        "    epochs=epochs,\n",
        "    validation_data=[x_test, y_test]\n",
        ")"
      ],
      "execution_count": 6,
      "outputs": [
        {
          "output_type": "stream",
          "name": "stdout",
          "text": [
            "Epoch 1/16\n",
            "49/49 [==============================] - 51s 956ms/step - loss: 0.1406 - accuracy: 0.0936 - val_loss: 0.0000e+00 - val_accuracy: 0.0000e+00\n",
            "Epoch 2/16\n",
            "49/49 [==============================] - 46s 936ms/step - loss: 0.0593 - accuracy: 0.4308 - val_loss: 0.0000e+00 - val_accuracy: 0.0000e+00\n",
            "Epoch 3/16\n",
            "49/49 [==============================] - 46s 945ms/step - loss: 0.0401 - accuracy: 0.5853 - val_loss: 0.0000e+00 - val_accuracy: 0.0000e+00\n",
            "Epoch 4/16\n",
            "49/49 [==============================] - 47s 955ms/step - loss: 0.0294 - accuracy: 0.7123 - val_loss: 0.0000e+00 - val_accuracy: 0.0000e+00\n",
            "Epoch 5/16\n",
            "49/49 [==============================] - 46s 944ms/step - loss: 0.0220 - accuracy: 0.7555 - val_loss: 0.0000e+00 - val_accuracy: 0.0000e+00\n",
            "Epoch 6/16\n",
            "49/49 [==============================] - 47s 950ms/step - loss: 0.0171 - accuracy: 0.7590 - val_loss: 0.0000e+00 - val_accuracy: 0.0000e+00\n",
            "Epoch 7/16\n",
            "49/49 [==============================] - 46s 944ms/step - loss: 0.0145 - accuracy: 0.7629 - val_loss: 0.0000e+00 - val_accuracy: 0.0000e+00\n",
            "Epoch 8/16\n",
            "49/49 [==============================] - 46s 944ms/step - loss: 0.0116 - accuracy: 0.7683 - val_loss: 0.0000e+00 - val_accuracy: 0.0000e+00\n",
            "Epoch 9/16\n",
            "49/49 [==============================] - 46s 947ms/step - loss: 0.0099 - accuracy: 0.7749 - val_loss: 0.0000e+00 - val_accuracy: 0.0000e+00\n",
            "Epoch 10/16\n",
            "49/49 [==============================] - 46s 947ms/step - loss: 0.0090 - accuracy: 0.7810 - val_loss: 0.0000e+00 - val_accuracy: 0.0000e+00\n",
            "Epoch 11/16\n",
            "49/49 [==============================] - 46s 943ms/step - loss: 0.0080 - accuracy: 0.7843 - val_loss: 0.0000e+00 - val_accuracy: 0.0000e+00\n",
            "Epoch 12/16\n",
            "49/49 [==============================] - 47s 958ms/step - loss: 0.0074 - accuracy: 0.7925 - val_loss: 0.0000e+00 - val_accuracy: 0.0000e+00\n",
            "Epoch 13/16\n",
            "49/49 [==============================] - 46s 941ms/step - loss: 0.0073 - accuracy: 0.7912 - val_loss: 0.0000e+00 - val_accuracy: 0.0000e+00\n",
            "Epoch 14/16\n",
            "49/49 [==============================] - 46s 946ms/step - loss: 0.0068 - accuracy: 0.7928 - val_loss: 0.0000e+00 - val_accuracy: 0.0000e+00\n",
            "Epoch 15/16\n",
            "49/49 [==============================] - 47s 949ms/step - loss: 0.0067 - accuracy: 0.7915 - val_loss: 0.0000e+00 - val_accuracy: 0.0000e+00\n",
            "Epoch 16/16\n",
            "49/49 [==============================] - 46s 945ms/step - loss: 0.0067 - accuracy: 0.7941 - val_loss: 0.0000e+00 - val_accuracy: 0.0000e+00\n"
          ]
        }
      ]
    },
    {
      "cell_type": "code",
      "metadata": {
        "id": "JpvTJLsyokJU"
      },
      "source": [
        ""
      ],
      "execution_count": null,
      "outputs": []
    },
    {
      "cell_type": "code",
      "metadata": {
        "id": "dPts6O_YokMa"
      },
      "source": [
        ""
      ],
      "execution_count": null,
      "outputs": []
    },
    {
      "cell_type": "code",
      "metadata": {
        "colab": {
          "base_uri": "https://localhost:8080/"
        },
        "id": "g7Urmdj5okvS",
        "outputId": "059f7e98-a6cd-40c1-96a2-44acd7f38ac0"
      },
      "source": [
        "from keras.models import Sequential\n",
        "from keras.layers import Dense, Dropout, Embedding, RNN, SimpleRNN, LSTM, Bidirectional\n",
        "\n",
        "model = Sequential()\n",
        "\n",
        "model.add(Embedding(n_unique_words, 128, input_length=maxlen))\n",
        "model.add(Bidirectional(SimpleRNN(num_layers, return_sequences=False)))\n",
        "model.add(Dropout(0.5))\n",
        "model.add(Dense(8, activation='relu'))\n",
        "\n",
        "model.compile(loss='mean_squared_error', optimizer='adam', metrics=['accuracy']) \n",
        "\n",
        "history = model.fit(\n",
        "    x_train,\n",
        "    y_train,\n",
        "    batch_size=batch_size,\n",
        "    epochs=epochs,\n",
        "    validation_data=[x_test, y_test]\n",
        ")"
      ],
      "execution_count": 9,
      "outputs": [
        {
          "output_type": "stream",
          "name": "stdout",
          "text": [
            "Epoch 1/16\n",
            "49/49 [==============================] - 19s 358ms/step - loss: 0.1484 - accuracy: 0.2073 - val_loss: 0.0000e+00 - val_accuracy: 0.0000e+00\n",
            "Epoch 2/16\n",
            "49/49 [==============================] - 17s 353ms/step - loss: 0.0872 - accuracy: 0.4926 - val_loss: 0.0000e+00 - val_accuracy: 0.0000e+00\n",
            "Epoch 3/16\n",
            "49/49 [==============================] - 17s 350ms/step - loss: 0.0516 - accuracy: 0.6067 - val_loss: 0.0000e+00 - val_accuracy: 0.0000e+00\n",
            "Epoch 4/16\n",
            "49/49 [==============================] - 17s 354ms/step - loss: 0.0379 - accuracy: 0.6904 - val_loss: 0.0000e+00 - val_accuracy: 0.0000e+00\n",
            "Epoch 5/16\n",
            "49/49 [==============================] - 17s 354ms/step - loss: 0.0300 - accuracy: 0.7090 - val_loss: 0.0000e+00 - val_accuracy: 0.0000e+00\n",
            "Epoch 6/16\n",
            "49/49 [==============================] - 17s 354ms/step - loss: 0.0433 - accuracy: 0.6778 - val_loss: 0.0000e+00 - val_accuracy: 0.0000e+00\n",
            "Epoch 7/16\n",
            "49/49 [==============================] - 18s 358ms/step - loss: 0.0718 - accuracy: 0.5525 - val_loss: 0.0000e+00 - val_accuracy: 0.0000e+00\n",
            "Epoch 8/16\n",
            "49/49 [==============================] - 17s 355ms/step - loss: 0.0783 - accuracy: 0.4677 - val_loss: 0.0000e+00 - val_accuracy: 0.0000e+00\n",
            "Epoch 9/16\n",
            "49/49 [==============================] - 17s 355ms/step - loss: 0.0443 - accuracy: 0.6306 - val_loss: 0.0000e+00 - val_accuracy: 0.0000e+00\n",
            "Epoch 10/16\n",
            "49/49 [==============================] - 17s 353ms/step - loss: 0.0179 - accuracy: 0.7439 - val_loss: 0.0000e+00 - val_accuracy: 0.0000e+00\n",
            "Epoch 11/16\n",
            "49/49 [==============================] - 17s 354ms/step - loss: 0.0155 - accuracy: 0.7539 - val_loss: 0.0000e+00 - val_accuracy: 0.0000e+00\n",
            "Epoch 12/16\n",
            "49/49 [==============================] - 17s 354ms/step - loss: 0.0126 - accuracy: 0.7490 - val_loss: 0.0000e+00 - val_accuracy: 0.0000e+00\n",
            "Epoch 13/16\n",
            "49/49 [==============================] - 17s 353ms/step - loss: 0.0336 - accuracy: 0.6926 - val_loss: 0.0000e+00 - val_accuracy: 0.0000e+00\n",
            "Epoch 14/16\n",
            "49/49 [==============================] - 17s 351ms/step - loss: 0.0121 - accuracy: 0.7702 - val_loss: 0.0000e+00 - val_accuracy: 0.0000e+00\n",
            "Epoch 15/16\n",
            "49/49 [==============================] - 17s 350ms/step - loss: 0.0110 - accuracy: 0.7516 - val_loss: 0.0000e+00 - val_accuracy: 0.0000e+00\n",
            "Epoch 16/16\n",
            "49/49 [==============================] - 17s 352ms/step - loss: 0.0093 - accuracy: 0.7655 - val_loss: 0.0000e+00 - val_accuracy: 0.0000e+00\n"
          ]
        }
      ]
    },
    {
      "cell_type": "code",
      "metadata": {
        "id": "sWor5-IMrU-T"
      },
      "source": [
        ""
      ],
      "execution_count": null,
      "outputs": []
    },
    {
      "cell_type": "code",
      "metadata": {
        "id": "N1Sx-AAArVBS"
      },
      "source": [
        ""
      ],
      "execution_count": null,
      "outputs": []
    },
    {
      "cell_type": "code",
      "metadata": {
        "id": "SQ4WPuZdrVEV"
      },
      "source": [
        ""
      ],
      "execution_count": null,
      "outputs": []
    },
    {
      "cell_type": "code",
      "metadata": {
        "colab": {
          "base_uri": "https://localhost:8080/"
        },
        "id": "_aR9N_torVLU",
        "outputId": "65bb7708-2082-43f9-a318-38bb753e3ca0"
      },
      "source": [
        "from keras.models import Sequential\n",
        "from keras.layers import Dense, Dropout, Embedding, RNN, SimpleRNN, LSTM, Bidirectional\n",
        "\n",
        "model = Sequential()\n",
        "\n",
        "model.add(Embedding(n_unique_words, 128, input_length=maxlen))\n",
        "model.add(Bidirectional(SimpleRNN(num_layers, return_sequences=True)))\n",
        "model.add(Bidirectional(SimpleRNN(32)))\n",
        "model.add(Dropout(0.5))\n",
        "model.add(Dense(8, activation='relu'))\n",
        "\n",
        "model.compile(loss='mean_squared_error', optimizer='adam', metrics=['accuracy']) \n",
        "\n",
        "history = model.fit(\n",
        "    x_train,\n",
        "    y_train,\n",
        "    batch_size=batch_size,\n",
        "    epochs=epochs,\n",
        "    validation_data=[x_test, y_test]\n",
        ")"
      ],
      "execution_count": 22,
      "outputs": [
        {
          "output_type": "stream",
          "name": "stdout",
          "text": [
            "Epoch 1/16\n",
            "49/49 [==============================] - 77s 645ms/step - loss: 0.1759 - accuracy: 0.2508 - val_loss: 0.0000e+00 - val_accuracy: 0.0000e+00\n",
            "Epoch 2/16\n",
            "49/49 [==============================] - 31s 638ms/step - loss: 0.1042 - accuracy: 0.4476 - val_loss: 0.0000e+00 - val_accuracy: 0.0000e+00\n",
            "Epoch 3/16\n",
            "49/49 [==============================] - 31s 640ms/step - loss: 0.0817 - accuracy: 0.5711 - val_loss: 0.0000e+00 - val_accuracy: 0.0000e+00\n",
            "Epoch 4/16\n",
            "49/49 [==============================] - 31s 638ms/step - loss: 0.0854 - accuracy: 0.5472 - val_loss: 0.0000e+00 - val_accuracy: 0.0000e+00\n",
            "Epoch 5/16\n",
            "49/49 [==============================] - 31s 637ms/step - loss: 0.0755 - accuracy: 0.5761 - val_loss: 0.0000e+00 - val_accuracy: 0.0000e+00\n",
            "Epoch 6/16\n",
            "49/49 [==============================] - 31s 642ms/step - loss: 0.0705 - accuracy: 0.5572 - val_loss: 0.0000e+00 - val_accuracy: 0.0000e+00\n",
            "Epoch 7/16\n",
            "49/49 [==============================] - 31s 640ms/step - loss: 0.0586 - accuracy: 0.5913 - val_loss: 0.0000e+00 - val_accuracy: 0.0000e+00\n",
            "Epoch 8/16\n",
            "49/49 [==============================] - 31s 638ms/step - loss: 0.0549 - accuracy: 0.5844 - val_loss: 0.0000e+00 - val_accuracy: 0.0000e+00\n",
            "Epoch 9/16\n",
            "49/49 [==============================] - 31s 642ms/step - loss: 0.0440 - accuracy: 0.6513 - val_loss: 0.0000e+00 - val_accuracy: 0.0000e+00\n",
            "Epoch 10/16\n",
            "49/49 [==============================] - 31s 638ms/step - loss: 0.0666 - accuracy: 0.6440 - val_loss: 0.0000e+00 - val_accuracy: 0.0000e+00\n",
            "Epoch 11/16\n",
            "49/49 [==============================] - 31s 638ms/step - loss: 0.0448 - accuracy: 0.6621 - val_loss: 0.0000e+00 - val_accuracy: 0.0000e+00\n",
            "Epoch 12/16\n",
            "49/49 [==============================] - 31s 639ms/step - loss: 0.0210 - accuracy: 0.7485 - val_loss: 0.0000e+00 - val_accuracy: 0.0000e+00\n",
            "Epoch 13/16\n",
            "49/49 [==============================] - 31s 637ms/step - loss: 0.0156 - accuracy: 0.7597 - val_loss: 0.0000e+00 - val_accuracy: 0.0000e+00\n",
            "Epoch 14/16\n",
            "49/49 [==============================] - 31s 636ms/step - loss: 0.0568 - accuracy: 0.6463 - val_loss: 0.0000e+00 - val_accuracy: 0.0000e+00\n",
            "Epoch 15/16\n",
            "49/49 [==============================] - 31s 638ms/step - loss: 0.0543 - accuracy: 0.6404 - val_loss: 0.0000e+00 - val_accuracy: 0.0000e+00\n",
            "Epoch 16/16\n",
            "49/49 [==============================] - 31s 639ms/step - loss: 0.0282 - accuracy: 0.7120 - val_loss: 0.0000e+00 - val_accuracy: 0.0000e+00\n"
          ]
        }
      ]
    },
    {
      "cell_type": "code",
      "metadata": {
        "id": "hiebOrMKy85D"
      },
      "source": [
        ""
      ],
      "execution_count": null,
      "outputs": []
    },
    {
      "cell_type": "markdown",
      "metadata": {
        "id": "BRbIfSLIzBjC"
      },
      "source": [
        "# Plot graphs to show accuracy and loss over time"
      ]
    },
    {
      "cell_type": "code",
      "metadata": {
        "colab": {
          "base_uri": "https://localhost:8080/",
          "height": 295
        },
        "id": "KYd-FYLhy9fy",
        "outputId": "5543a68d-e800-47b4-9343-cae1618de4fd"
      },
      "source": [
        "from matplotlib import pyplot\n",
        "\n",
        "pyplot.plot(history.history['loss'])\n",
        "pyplot.plot(history.history['accuracy'])\n",
        "pyplot.title('Loss Vs Accuracy')\n",
        "pyplot.xlabel('Epoch')\n",
        "pyplot.legend(['Loss', 'Accuracy'], loc='best')\n",
        "\n",
        "pyplot.show() "
      ],
      "execution_count": 23,
      "outputs": [
        {
          "output_type": "display_data",
          "data": {
            "image/png": "[encoded data removed]",
            "text/plain": [
              "<Figure size 432x288 with 1 Axes>"
            ]
          },
          "metadata": {
            "needs_background": "light"
          }
        }
      ]
    },
    {
      "cell_type": "markdown",
      "metadata": {
        "id": "7VHyL2U8zITs"
      },
      "source": [
        "# Calculate the accuracy, precision, recall, f1 score and the confusion matrix"
      ]
    },
    {
      "cell_type": "code",
      "metadata": {
        "colab": {
          "base_uri": "https://localhost:8080/"
        },
        "id": "lto4AjnezNF0",
        "outputId": "b3b5134e-3aac-468a-d1c8-2a525cb4ac6f"
      },
      "source": [
        "from sklearn.metrics import (accuracy_score, precision_score, recall_score,\n",
        "                             f1_score, confusion_matrix)\n",
        "\n",
        "predictions = model.predict(x_validation)\n",
        "\n",
        "classes = np.argmax(predictions, axis=1)\n",
        "classes = list(map(int, map(bool, classes)))\n",
        "\n",
        "accuracy = accuracy_score(y_validation, classes)\n",
        "print('Accuracy: %f\\n' % accuracy)\n",
        "\n",
        "precision = precision_score(y_validation, classes)\n",
        "print('Precision: %f\\n' % precision)\n",
        "\n",
        "recall = recall_score(y_validation, classes)\n",
        "print('Recall: %f\\n' % recall)\n",
        "\n",
        "f1 = f1_score(y_validation, classes)\n",
        "print('F1 score: %f\\n' % f1)\n",
        "\n",
        "matrix = confusion_matrix(y_validation, classes)\n",
        "print('Confusion matrix: {}\\n'.format(matrix.tolist()))"
      ],
      "execution_count": 24,
      "outputs": [
        {
          "output_type": "stream",
          "name": "stdout",
          "text": [
            "Accuracy: 0.881726\n",
            "\n",
            "Precision: 0.746341\n",
            "\n",
            "Recall: 0.686099\n",
            "\n",
            "F1 score: 0.714953\n",
            "\n",
            "Confusion matrix: [[1513, 104], [140, 306]]\n",
            "\n"
          ]
        }
      ]
    }
  ]
}